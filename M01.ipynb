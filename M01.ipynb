{
 "cells": [
  {
   "cell_type": "markdown",
   "id": "9f9e8b85-f98c-4312-b00b-33c31d9c7938",
   "metadata": {},
   "source": [
    "3.1"
   ]
  },
  {
   "cell_type": "code",
   "execution_count": 3,
   "id": "7de12509-6849-4be5-a7c1-3393b81fb641",
   "metadata": {},
   "outputs": [
    {
     "data": {
      "text/plain": [
       "3600"
      ]
     },
     "execution_count": 3,
     "metadata": {},
     "output_type": "execute_result"
    }
   ],
   "source": [
    "secs_in_a_minute=60\n",
    "mins_in_a_hour=60\n",
    "secs_in_a_minute*mins_in_a_hour"
   ]
  },
  {
   "cell_type": "markdown",
   "id": "dd44af30-830a-4e3a-bd8c-cac2d3c1a595",
   "metadata": {},
   "source": [
    "3.2"
   ]
  },
  {
   "cell_type": "code",
   "execution_count": 13,
   "id": "3a49b9d7-8af4-4ddf-80eb-3c4ec64a89e9",
   "metadata": {},
   "outputs": [
    {
     "name": "stdout",
     "output_type": "stream",
     "text": [
      "3600\n"
     ]
    }
   ],
   "source": [
    "seconds_per_hour=3600\n",
    "print(seconds_per_hour)"
   ]
  },
  {
   "cell_type": "markdown",
   "id": "72bc6399-11ec-4180-a544-73902152fba1",
   "metadata": {},
   "source": [
    "3.3"
   ]
  },
  {
   "cell_type": "code",
   "execution_count": 6,
   "id": "1ded5373-96d9-4c0c-b84f-95c30178416d",
   "metadata": {},
   "outputs": [
    {
     "data": {
      "text/plain": [
       "86400"
      ]
     },
     "execution_count": 6,
     "metadata": {},
     "output_type": "execute_result"
    }
   ],
   "source": [
    "hours_per_day=24\n",
    "seconds_per_hour=3600\n",
    "hours_per_day*seconds_per_hour"
   ]
  },
  {
   "cell_type": "markdown",
   "id": "4e35252c-4bb2-4956-a423-2d15759c3338",
   "metadata": {},
   "source": [
    "3.4"
   ]
  },
  {
   "cell_type": "code",
   "execution_count": 10,
   "id": "b7bb9bf3-18d6-4a0d-be23-8b7b81f17502",
   "metadata": {},
   "outputs": [
    {
     "name": "stdout",
     "output_type": "stream",
     "text": [
      "86400\n"
     ]
    }
   ],
   "source": [
    "hours_per_day=24\n",
    "seconds_per_hour=3600\n",
    "seconds_per_day= hours_per_day*seconds_per_hour\n",
    "print(seconds_per_day)"
   ]
  },
  {
   "cell_type": "markdown",
   "id": "5b184f85-5631-4a46-aa66-4e07b613db22",
   "metadata": {},
   "source": [
    "3.5"
   ]
  },
  {
   "cell_type": "code",
   "execution_count": 11,
   "id": "db8a0d42-dddd-4f81-b932-5913f69ab78a",
   "metadata": {},
   "outputs": [
    {
     "data": {
      "text/plain": [
       "24.0"
      ]
     },
     "execution_count": 11,
     "metadata": {},
     "output_type": "execute_result"
    }
   ],
   "source": [
    "seconds_per_day=86400\n",
    "seconds_per_hour=3600\n",
    "seconds_per_day/seconds_per_hour\n"
   ]
  },
  {
   "cell_type": "markdown",
   "id": "9cbf170c-b934-4b8c-bfcc-a406178a53e8",
   "metadata": {},
   "source": [
    "3.6"
   ]
  },
  {
   "cell_type": "code",
   "execution_count": 12,
   "id": "5fca41fc-5d43-49cf-b288-c719026ca748",
   "metadata": {},
   "outputs": [
    {
     "data": {
      "text/plain": [
       "24"
      ]
     },
     "execution_count": 12,
     "metadata": {},
     "output_type": "execute_result"
    }
   ],
   "source": [
    "seconds_per_day=86400\n",
    "seconds_per_hour=3600\n",
    "seconds_per_day//seconds_per_hour"
   ]
  },
  {
   "cell_type": "markdown",
   "id": "601fce84-f9d9-4b83-939b-7764239fa025",
   "metadata": {},
   "source": [
    "Yes, the number agreed with the floating point value aside from the final .0"
   ]
  }
 ],
 "metadata": {
  "kernelspec": {
   "display_name": "Python 3 (ipykernel)",
   "language": "python",
   "name": "python3"
  },
  "language_info": {
   "codemirror_mode": {
    "name": "ipython",
    "version": 3
   },
   "file_extension": ".py",
   "mimetype": "text/x-python",
   "name": "python",
   "nbconvert_exporter": "python",
   "pygments_lexer": "ipython3",
   "version": "3.11.7"
  }
 },
 "nbformat": 4,
 "nbformat_minor": 5
}
