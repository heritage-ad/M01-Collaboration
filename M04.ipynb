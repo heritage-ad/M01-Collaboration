{
 "cells": [
  {
   "cell_type": "markdown",
   "id": "5d92ac5b-fc2e-49f3-b42b-32704ccbe213",
   "metadata": {},
   "source": [
    "11.1"
   ]
  },
  {
   "cell_type": "code",
   "execution_count": 3,
   "id": "fa6f7cd6-170a-451c-8580-fc3b460b212b",
   "metadata": {},
   "outputs": [],
   "source": [
    "#zoo.py\n",
    "def hours():\n",
    "    print(\"Open 9-5 daily\")\n",
    "\n",
    " #interactive interpreter\n",
    "    import zoo\n",
    "    zoo.hours()"
   ]
  },
  {
   "cell_type": "markdown",
   "id": "238be4dd-dabc-41f9-a9a3-efb7a7d918fe",
   "metadata": {},
   "source": [
    "11.2"
   ]
  },
  {
   "cell_type": "code",
   "execution_count": null,
   "id": "a57ddd4a-b7cd-4498-ae01-05312e96385a",
   "metadata": {},
   "outputs": [],
   "source": [
    "#interactive interpreter\n",
    "import zoo as menagerie\n",
    "menagerie.hours()"
   ]
  },
  {
   "cell_type": "markdown",
   "id": "3f4e5605-fe0f-4b36-ae87-9aad15fff74f",
   "metadata": {},
   "source": [
    "16.8"
   ]
  },
  {
   "cell_type": "code",
   "execution_count": null,
   "id": "49f7e230-ef45-47e7-81cc-80d99388011a",
   "metadata": {},
   "outputs": [],
   "source": [
    "from sqlalchemy import create_engine\n",
    "engine = create_engine('sqlite:///books.db')\n",
    "from sqlalchemy import Table, Column\n",
    "\n",
    "books = Table ('book', metadata autoload= True, autoload_with=engine)\n",
    "query = select([books.columns.title}).order_by(books.columns.title)\n",
    "\n",
    "with engine.connect() as conn:\n",
    "    result = conn.execute(query)\n",
    "    for row in result:\n",
    "        print (row['title'])"
   ]
  }
 ],
 "metadata": {
  "kernelspec": {
   "display_name": "Python 3 (ipykernel)",
   "language": "python",
   "name": "python3"
  },
  "language_info": {
   "codemirror_mode": {
    "name": "ipython",
    "version": 3
   },
   "file_extension": ".py",
   "mimetype": "text/x-python",
   "name": "python",
   "nbconvert_exporter": "python",
   "pygments_lexer": "ipython3",
   "version": "3.11.7"
  }
 },
 "nbformat": 4,
 "nbformat_minor": 5
}
