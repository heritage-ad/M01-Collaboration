{
 "cells": [
  {
   "cell_type": "markdown",
   "id": "25c8f17c-9c2f-4fc9-b016-d06d6c6f5cc7",
   "metadata": {},
   "source": [
    "Sort an Array of 0s, 1s, and 2s"
   ]
  },
  {
   "cell_type": "code",
   "execution_count": null,
   "id": "02929d61-d380-48c4-80d1-80892cb96e22",
   "metadata": {},
   "outputs": [],
   "source": [
    "#User function Template for python3\n",
    "class Solution:\n",
    "    def sort012(self,arr,n):\n",
    "\n",
    "        # code here\n",
    "        low = 0\n",
    "        mid = 0\n",
    "        high = n - 1\n",
    "\n",
    "        while mid <= high:\n",
    "            if arr[mid] == 0:\n",
    "                arr[low], arr[mid] = arr[mid], arr[low]\n",
    "                low += 1\n",
    "                mid += 1\n",
    "            elif arr[mid] == 1:\n",
    "                mid += 1\n",
    "            else:\n",
    "                arr[mid], arr[high] = arr[high], arr[mid]\n",
    "                high -= 1\n",
    "\n",
    "\n",
    "arr = [0, 1, 2, 1, 2, 1, 1, 0, 0, 2, 1, 1, 2]\n",
    "n = len(arr)\n",
    "\n",
    "solution = Solution()\n",
    "solution.sort012(arr, n)\n",
    "\n",
    "print(arr)\n",
    "                        "
   ]
  },
  {
   "cell_type": "markdown",
   "id": "3315b557-20ae-48b6-a17d-0d043d7ad3cd",
   "metadata": {},
   "source": [
    "Binary Search\n"
   ]
  },
  {
   "cell_type": "code",
   "execution_count": null,
   "id": "8cc85b99-5bca-4b00-99ae-88817e22d056",
   "metadata": {},
   "outputs": [],
   "source": [
    "#User function template for Python\n",
    "\n",
    "class Solution:\t\n",
    "\tdef binarysearch(self, arr, n, k):\n",
    "\t\t# code here\n",
    "\t\t\n",
    "\t\t\n",
    "\t\t left = 0\n",
    "         right = n - 1\n",
    "         \n",
    "        \n",
    "         while left <= right:\n",
    "            mid = left + (right - left) // 2  \n",
    "            \n",
    "            if arr[mid] == k:\n",
    "                return mid  \n",
    "            elif arr[mid] < k:\n",
    "                left = mid + 1  \n",
    "            else:\n",
    "                right = mid - 1  \n",
    "                \n",
    "        \n",
    "            return -1  \n",
    "\n",
    "\n",
    "arr = [1, 2, 3, 4, 5, 6, 7, 8, 9]\n",
    "n = len(arr)\n",
    "k = 5\n",
    "\n",
    "solution = Solution()\n",
    "result = solution.binarysearch(arr, n, k)\n",
    "print(result)\n",
    "\n"
   ]
  }
 ],
 "metadata": {
  "kernelspec": {
   "display_name": "Python 3 (ipykernel)",
   "language": "python",
   "name": "python3"
  },
  "language_info": {
   "codemirror_mode": {
    "name": "ipython",
    "version": 3
   },
   "file_extension": ".py",
   "mimetype": "text/x-python",
   "name": "python",
   "nbconvert_exporter": "python",
   "pygments_lexer": "ipython3",
   "version": "3.11.7"
  }
 },
 "nbformat": 4,
 "nbformat_minor": 5
}
