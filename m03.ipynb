{
 "cells": [
  {
   "cell_type": "markdown",
   "id": "2d2cb19c-4422-4322-bc50-444ff095bf8e",
   "metadata": {},
   "source": [
    "7.4"
   ]
  },
  {
   "cell_type": "code",
   "execution_count": 1,
   "id": "bf879cb9-429f-436d-b28c-cf9341ed9626",
   "metadata": {},
   "outputs": [
    {
     "name": "stdout",
     "output_type": "stream",
     "text": [
      "['mozarella', 'cinderella', 'samonella']\n"
     ]
    }
   ],
   "source": [
    "things = [\"mozarella\", \"cinderella\", \"samonella\"]\n",
    "print(things)"
   ]
  },
  {
   "cell_type": "markdown",
   "id": "f2a80880-8dd9-43cc-b53d-ffc1970f8ab2",
   "metadata": {},
   "source": [
    "7.5"
   ]
  },
  {
   "cell_type": "code",
   "execution_count": 2,
   "id": "25ebfdac-9828-4612-b5fc-060c196a96ca",
   "metadata": {},
   "outputs": [
    {
     "name": "stdout",
     "output_type": "stream",
     "text": [
      "['mozarella', 'Cinderella', 'samonella']\n"
     ]
    }
   ],
   "source": [
    "things[1] = things [1].capitalize()\n",
    "print(things)"
   ]
  },
  {
   "cell_type": "markdown",
   "id": "85dccc69-04bf-4628-90b5-f88e3bf0ccfa",
   "metadata": {},
   "source": [
    "Yes, it changed the element in the list."
   ]
  },
  {
   "cell_type": "markdown",
   "id": "6e919474-8f2b-4e07-b515-254c24d5d536",
   "metadata": {},
   "source": [
    "7.6"
   ]
  },
  {
   "cell_type": "code",
   "execution_count": 3,
   "id": "74a86e54-9c2d-4247-826d-2c55782e1bc1",
   "metadata": {},
   "outputs": [
    {
     "name": "stdout",
     "output_type": "stream",
     "text": [
      "['MOZARELLA', 'Cinderella', 'samonella']\n"
     ]
    }
   ],
   "source": [
    "things[0] = things[0].upper()\n",
    "print(things)"
   ]
  },
  {
   "cell_type": "markdown",
   "id": "9c309abd-2df4-4cff-b064-b21d38d23d3a",
   "metadata": {},
   "source": [
    "7.7"
   ]
  },
  {
   "cell_type": "code",
   "execution_count": 4,
   "id": "6283eaf0-48c6-4497-914f-66f08b2a7b59",
   "metadata": {},
   "outputs": [
    {
     "name": "stdout",
     "output_type": "stream",
     "text": [
      "['MOZARELLA', 'Cinderella']\n"
     ]
    }
   ],
   "source": [
    "things.remove(\"samonella\")\n",
    "print(things)"
   ]
  },
  {
   "cell_type": "markdown",
   "id": "e35678b7-077b-46e7-b3a1-ab00908fcfb7",
   "metadata": {},
   "source": [
    "9.1"
   ]
  },
  {
   "cell_type": "code",
   "execution_count": 23,
   "id": "d0fb8526-2f3a-499d-9a95-c8f13c0d5c32",
   "metadata": {},
   "outputs": [],
   "source": [
    "def good():\n",
    "    list = ['Harry', 'Ron', 'Hermoine']\n",
    "    return list"
   ]
  },
  {
   "cell_type": "markdown",
   "id": "4de6bd2b-717f-47f3-8899-cb39adb3368c",
   "metadata": {},
   "source": [
    "9.2"
   ]
  },
  {
   "cell_type": "code",
   "execution_count": 25,
   "id": "f136743f-d3f9-4ebf-ae1f-d76eb96a68ba",
   "metadata": {},
   "outputs": [],
   "source": [
    "def get_odds():\n",
    "    for num in range (10):\n",
    "        if num % 2 != 0:\n",
    "            yield num\n",
    "\n",
    "count = 0\n",
    "for num in get_odds():\n",
    "    if count == 2:\n",
    "        print(num)\n",
    "        break\n",
    "        count += 1"
   ]
  },
  {
   "cell_type": "markdown",
   "id": "d92133ce-164c-4278-a453-82adc1a85eb5",
   "metadata": {},
   "source": [
    "FYI, 9.1 and 9.2 won't run, I don't know why. "
   ]
  }
 ],
 "metadata": {
  "kernelspec": {
   "display_name": "Python 3 (ipykernel)",
   "language": "python",
   "name": "python3"
  },
  "language_info": {
   "codemirror_mode": {
    "name": "ipython",
    "version": 3
   },
   "file_extension": ".py",
   "mimetype": "text/x-python",
   "name": "python",
   "nbconvert_exporter": "python",
   "pygments_lexer": "ipython3",
   "version": "3.11.7"
  }
 },
 "nbformat": 4,
 "nbformat_minor": 5
}
